{
 "cells": [
  {
   "cell_type": "code",
   "execution_count": 1,
   "id": "af252b38",
   "metadata": {},
   "outputs": [],
   "source": [
    "from dash import Dash, html, dash_table,dcc,Input,Output,State,callback\n",
    "import pandas as pd\n",
    "import plotly.express as px\n",
    "import dash_bootstrap_components as dbc\n",
    "from scholarly import scholarly"
   ]
  },
  {
   "cell_type": "code",
   "execution_count": 2,
   "id": "a0acd447",
   "metadata": {},
   "outputs": [],
   "source": [
    "%run mysql_utils.ipynb"
   ]
  },
  {
   "cell_type": "code",
   "execution_count": 3,
   "id": "ffc08acc",
   "metadata": {},
   "outputs": [],
   "source": [
    "sql_conn = get_mysql_db()"
   ]
  },
  {
   "cell_type": "markdown",
   "id": "f1258f3d",
   "metadata": {},
   "source": [
    "# Skip below parts when running because they are already run"
   ]
  },
  {
   "cell_type": "code",
   "execution_count": null,
   "id": "bc7fb1f9",
   "metadata": {
    "scrolled": true
   },
   "outputs": [],
   "source": [
    "cur = sql_conn.cursor()\n",
    "sql_index = \"create index year_idx on publication(year);\"\n",
    "cur.execute(sql_index)\n",
    "sql_conn.commit()\n",
    "cur.close()"
   ]
  },
  {
   "cell_type": "code",
   "execution_count": null,
   "id": "eb32ef36",
   "metadata": {},
   "outputs": [],
   "source": [
    "sql_show_index = \"show index from publication\"\n",
    "pd.read_sql(sql_show_index,sql_conn)"
   ]
  },
  {
   "cell_type": "code",
   "execution_count": null,
   "id": "e62efcc1",
   "metadata": {},
   "outputs": [],
   "source": [
    "cur = sql_conn.cursor()\n",
    "sql_view = \"create view pub_year_key as \\\n",
    "select count(distinct p.id) as pub_count,k.name as keyword,p.year \\\n",
    "from publication as p \\\n",
    "join Publication_Keyword as pk on pk.publication_id = p.id \\\n",
    "join keyword as k on k.id = pk.keyword_id \\\n",
    "group by k.name,p.year order by count(distinct p.id) desc;\"\n",
    "cur.execute(sql_view)\n",
    "sql_conn.commit()\n",
    "cur.close()"
   ]
  },
  {
   "cell_type": "code",
   "execution_count": null,
   "id": "a7e79428",
   "metadata": {},
   "outputs": [],
   "source": [
    "sql_show_view = \"select * from pub_year_key limit 1\"\n",
    "pd.read_sql(sql_show_view,sql_conn)"
   ]
  },
  {
   "cell_type": "code",
   "execution_count": null,
   "id": "96b105e6",
   "metadata": {},
   "outputs": [],
   "source": [
    "cur = sql_conn.cursor()\n",
    "sql_trigger = \"create trigger ResetYear before update on publication \\\n",
    "for each row begin \\\n",
    "if new.year > 2023 then set new.year = 2023; end if; end\"\n",
    "sql_conn.commit()\n",
    "cur.close()"
   ]
  },
  {
   "cell_type": "code",
   "execution_count": null,
   "id": "1c61751d",
   "metadata": {},
   "outputs": [],
   "source": [
    "cur = sql_conn.cursor()\n",
    "sql_constraint = \"alter table faculty_keyword add foreign key \\\n",
    "(keyword_id) references keyword(id);\"\n",
    "sql_conn.commit()\n",
    "cur.close()"
   ]
  },
  {
   "cell_type": "markdown",
   "id": "10dcb376",
   "metadata": {},
   "source": [
    "# Run from below"
   ]
  },
  {
   "cell_type": "code",
   "execution_count": 4,
   "id": "8402f5f5",
   "metadata": {
    "scrolled": false
   },
   "outputs": [],
   "source": [
    "def get_sql_1(year1,year2):\n",
    "    sql_1 = \"select sum(pub_count) as 'Number of publications',keyword \\\n",
    "    from pub_year_key \\\n",
    "    where year >= {0} and year <= {1} group by keyword \\\n",
    "    order by sum(pub_count) desc limit 10\".format(year1,year2)\n",
    "    df_sql_1 = pd.read_sql(sql_1,sql_conn)\n",
    "    return df_sql_1\n",
    "#get_sql_1(2010,2022)"
   ]
  },
  {
   "cell_type": "code",
   "execution_count": 5,
   "id": "e6b31ef2",
   "metadata": {},
   "outputs": [
    {
     "name": "stderr",
     "output_type": "stream",
     "text": [
      "/tmp/ipykernel_269623/67085250.py:2: UserWarning: pandas only supports SQLAlchemy connectable (engine/connection) or database string URI or sqlite3 DBAPI2 connection. Other DBAPI2 objects are not tested. Please consider using SQLAlchemy.\n",
      "  df_sql_2 = pd.read_sql(sql_2,sql_conn)\n"
     ]
    },
    {
     "data": {
      "text/html": [
       "<div>\n",
       "<style scoped>\n",
       "    .dataframe tbody tr th:only-of-type {\n",
       "        vertical-align: middle;\n",
       "    }\n",
       "\n",
       "    .dataframe tbody tr th {\n",
       "        vertical-align: top;\n",
       "    }\n",
       "\n",
       "    .dataframe thead th {\n",
       "        text-align: right;\n",
       "    }\n",
       "</style>\n",
       "<table border=\"1\" class=\"dataframe\">\n",
       "  <thead>\n",
       "    <tr style=\"text-align: right;\">\n",
       "      <th></th>\n",
       "      <th>year</th>\n",
       "    </tr>\n",
       "  </thead>\n",
       "  <tbody>\n",
       "    <tr>\n",
       "      <th>0</th>\n",
       "      <td>0</td>\n",
       "    </tr>\n",
       "    <tr>\n",
       "      <th>1</th>\n",
       "      <td>1903</td>\n",
       "    </tr>\n",
       "    <tr>\n",
       "      <th>2</th>\n",
       "      <td>1907</td>\n",
       "    </tr>\n",
       "    <tr>\n",
       "      <th>3</th>\n",
       "      <td>1908</td>\n",
       "    </tr>\n",
       "    <tr>\n",
       "      <th>4</th>\n",
       "      <td>1909</td>\n",
       "    </tr>\n",
       "    <tr>\n",
       "      <th>...</th>\n",
       "      <td>...</td>\n",
       "    </tr>\n",
       "    <tr>\n",
       "      <th>95</th>\n",
       "      <td>2017</td>\n",
       "    </tr>\n",
       "    <tr>\n",
       "      <th>96</th>\n",
       "      <td>2018</td>\n",
       "    </tr>\n",
       "    <tr>\n",
       "      <th>97</th>\n",
       "      <td>2019</td>\n",
       "    </tr>\n",
       "    <tr>\n",
       "      <th>98</th>\n",
       "      <td>2020</td>\n",
       "    </tr>\n",
       "    <tr>\n",
       "      <th>99</th>\n",
       "      <td>2021</td>\n",
       "    </tr>\n",
       "  </tbody>\n",
       "</table>\n",
       "<p>100 rows × 1 columns</p>\n",
       "</div>"
      ],
      "text/plain": [
       "    year\n",
       "0      0\n",
       "1   1903\n",
       "2   1907\n",
       "3   1908\n",
       "4   1909\n",
       "..   ...\n",
       "95  2017\n",
       "96  2018\n",
       "97  2019\n",
       "98  2020\n",
       "99  2021\n",
       "\n",
       "[100 rows x 1 columns]"
      ]
     },
     "execution_count": 5,
     "metadata": {},
     "output_type": "execute_result"
    }
   ],
   "source": [
    "sql_2 = \"select distinct(year) from publication\"\n",
    "df_sql_2 = pd.read_sql(sql_2,sql_conn)\n",
    "df_sql_2"
   ]
  },
  {
   "cell_type": "code",
   "execution_count": 6,
   "id": "ad7468ad",
   "metadata": {},
   "outputs": [
    {
     "name": "stderr",
     "output_type": "stream",
     "text": [
      "/tmp/ipykernel_269623/596577998.py:2: UserWarning: pandas only supports SQLAlchemy connectable (engine/connection) or database string URI or sqlite3 DBAPI2 connection. Other DBAPI2 objects are not tested. Please consider using SQLAlchemy.\n",
      "  df_sql_keyword = pd.read_sql(sql_keyword,sql_conn)\n"
     ]
    }
   ],
   "source": [
    "sql_keyword = \"select distinct name as keyword from keyword\"\n",
    "df_sql_keyword = pd.read_sql(sql_keyword,sql_conn)\n",
    "df_sql_keyword= df_sql_keyword.sort_values('keyword')\n",
    "#df_sql_keyword"
   ]
  },
  {
   "cell_type": "code",
   "execution_count": 7,
   "id": "ae566ba9",
   "metadata": {},
   "outputs": [],
   "source": [
    "%run mongodb_utils.ipynb"
   ]
  },
  {
   "cell_type": "code",
   "execution_count": 8,
   "id": "bab75b0a",
   "metadata": {},
   "outputs": [],
   "source": [
    "mongo_conn = get_mongo_db()"
   ]
  },
  {
   "cell_type": "code",
   "execution_count": 9,
   "id": "7ad58543",
   "metadata": {},
   "outputs": [
    {
     "data": {
      "text/plain": [
       "'\\nmongo_query = ([\\n{\\'$match\\':{\\'$and\\':[{\"year\":{\\'$gte\\':2000}},\\n{\"year\":{\\'$lte\\':2012}}]}},{\\'$unwind\\':\"$keywords\"},\\n{\\'$group\\':{\\'_id\\':\"$keywords.name\",\"pub_count\":{\\'$sum\\':1}}},\\n{\\'$sort\\':{\"pub_count\":-1}},{\\'$limit\\':10}])\\nmongo_data = mongo_conn.publications.aggregate(mongo_query)\\n'"
      ]
     },
     "execution_count": 9,
     "metadata": {},
     "output_type": "execute_result"
    }
   ],
   "source": [
    "\"\"\"\n",
    "mongo_query = ([\n",
    "{'$match':{'$and':[{\"year\":{'$gte':2000}},\n",
    "{\"year\":{'$lte':2012}}]}},{'$unwind':\"$keywords\"},\n",
    "{'$group':{'_id':\"$keywords.name\",\"pub_count\":{'$sum':1}}},\n",
    "{'$sort':{\"pub_count\":-1}},{'$limit':10}])\n",
    "mongo_data = mongo_conn.publications.aggregate(mongo_query)\n",
    "\"\"\""
   ]
  },
  {
   "cell_type": "code",
   "execution_count": 10,
   "id": "dce2b794",
   "metadata": {},
   "outputs": [],
   "source": [
    "def get_mongo_1(keyword):\n",
    "    mongo_query_2 = ([\n",
    "    {'$unwind':\"$keywords\"},\n",
    "    {'$match':{\"keywords.name\":keyword}},\n",
    "    {'$group':{'_id':\"$year\",\"pub_count\":{'$sum':1}}},\n",
    "    {'$sort':{\"pub_count\":-1}}])\n",
    "    mongo_data = mongo_conn.publications.aggregate(mongo_query_2)\n",
    "    mongo_data_df = pd.DataFrame(list(mongo_data))\n",
    "    return mongo_data_df"
   ]
  },
  {
   "cell_type": "code",
   "execution_count": 11,
   "id": "3220c277",
   "metadata": {},
   "outputs": [],
   "source": [
    "%run neo4j_utils.ipynb"
   ]
  },
  {
   "cell_type": "code",
   "execution_count": 12,
   "id": "d017666a",
   "metadata": {},
   "outputs": [],
   "source": [
    "def get_neo_1(keyword):\n",
    "    query = '''\n",
    "    match (k:KEYWORD)<- [r2:LABEL_BY]-(p:PUBLICATION)<-[r:PUBLISH]\n",
    "    -(f:FACULTY)-[r3:AFFILIATION_WITH]->(i:INSTITUTE) \n",
    "    where k.name in {0}\n",
    "    return f.photoUrl as photo,f.name as name,i.name as university,\n",
    "    count(p) as Num_pub,sum(p.numCitations*r2.score) as KRC order by \n",
    "    sum(p.numCitations*r2.score) DESC limit(5)\n",
    "    '''.format([keyword])\n",
    "    neo_data = get_neo4j_data(query)\n",
    "    neo_data['KRC'] = neo_data['KRC'].astype(int)\n",
    "    for index,value in enumerate(neo_data.photo):\n",
    "        neo_data.photo[index] = html.Img(src=value,height=200,width=200)\n",
    "    neo_data = neo_data.rename(columns={\"Num_pub\":\"Number of Publications\",\n",
    "                               \"KRC\":\"Keyword relevance score\"})\n",
    "    return neo_data"
   ]
  },
  {
   "cell_type": "code",
   "execution_count": 13,
   "id": "0d290d8b",
   "metadata": {},
   "outputs": [],
   "source": [
    "#neo_data = get_neo_1('data mining')"
   ]
  },
  {
   "cell_type": "code",
   "execution_count": 14,
   "id": "311ab317",
   "metadata": {},
   "outputs": [],
   "source": [
    "#neo_data"
   ]
  },
  {
   "cell_type": "code",
   "execution_count": 15,
   "id": "a61a5faf",
   "metadata": {},
   "outputs": [],
   "source": [
    "def get_neo_2(keyword):\n",
    "    query = '''\n",
    "    match (k:KEYWORD)<- [r2:LABEL_BY]-\n",
    "    (p:PUBLICATION)<-[r:PUBLISH]-(f:FACULTY)-[r3:AFFILIATION_WITH]->\n",
    "    (i:INSTITUTE) \n",
    "    where k.name in {0}\n",
    "    return i.name as University,count(distinct f.id) as Num_faculty\n",
    "    order by count(distinct f.id) DESC limit(5)\n",
    "    '''.format([keyword])\n",
    "    neo_data_2 = get_neo4j_data(query)\n",
    "    neo_data_2 = neo_data_2.rename(columns={\"Num_faculty\":\"Number of faculty\"})\n",
    "    return neo_data_2"
   ]
  },
  {
   "cell_type": "code",
   "execution_count": 16,
   "id": "c53482e2",
   "metadata": {},
   "outputs": [],
   "source": [
    "#get_neo_2('data mining')"
   ]
  },
  {
   "cell_type": "code",
   "execution_count": 18,
   "id": "6a62e2c0",
   "metadata": {
    "scrolled": false
   },
   "outputs": [
    {
     "data": {
      "text/html": [
       "\n",
       "        <iframe\n",
       "            width=\"100%\"\n",
       "            height=\"650\"\n",
       "            src=\"http://127.0.0.1:8050/\"\n",
       "            frameborder=\"0\"\n",
       "            allowfullscreen\n",
       "            \n",
       "        ></iframe>\n",
       "        "
      ],
      "text/plain": [
       "<IPython.lib.display.IFrame at 0x7fc019561110>"
      ]
     },
     "metadata": {},
     "output_type": "display_data"
    },
    {
     "name": "stderr",
     "output_type": "stream",
     "text": [
      "/tmp/ipykernel_269623/3685725548.py:6: UserWarning:\n",
      "\n",
      "pandas only supports SQLAlchemy connectable (engine/connection) or database string URI or sqlite3 DBAPI2 connection. Other DBAPI2 objects are not tested. Please consider using SQLAlchemy.\n",
      "\n",
      "/tmp/ipykernel_269623/412598113.py:13: SettingWithCopyWarning:\n",
      "\n",
      "\n",
      "A value is trying to be set on a copy of a slice from a DataFrame\n",
      "\n",
      "See the caveats in the documentation: https://pandas.pydata.org/pandas-docs/stable/user_guide/indexing.html#returning-a-view-versus-a-copy\n",
      "\n",
      "/tmp/ipykernel_269623/412598113.py:13: SettingWithCopyWarning:\n",
      "\n",
      "\n",
      "A value is trying to be set on a copy of a slice from a DataFrame\n",
      "\n",
      "See the caveats in the documentation: https://pandas.pydata.org/pandas-docs/stable/user_guide/indexing.html#returning-a-view-versus-a-copy\n",
      "\n",
      "/tmp/ipykernel_269623/3685725548.py:6: UserWarning:\n",
      "\n",
      "pandas only supports SQLAlchemy connectable (engine/connection) or database string URI or sqlite3 DBAPI2 connection. Other DBAPI2 objects are not tested. Please consider using SQLAlchemy.\n",
      "\n",
      "/tmp/ipykernel_269623/3685725548.py:6: UserWarning:\n",
      "\n",
      "pandas only supports SQLAlchemy connectable (engine/connection) or database string URI or sqlite3 DBAPI2 connection. Other DBAPI2 objects are not tested. Please consider using SQLAlchemy.\n",
      "\n",
      "/tmp/ipykernel_269623/412598113.py:13: SettingWithCopyWarning:\n",
      "\n",
      "\n",
      "A value is trying to be set on a copy of a slice from a DataFrame\n",
      "\n",
      "See the caveats in the documentation: https://pandas.pydata.org/pandas-docs/stable/user_guide/indexing.html#returning-a-view-versus-a-copy\n",
      "\n",
      "/tmp/ipykernel_269623/412598113.py:13: SettingWithCopyWarning:\n",
      "\n",
      "\n",
      "A value is trying to be set on a copy of a slice from a DataFrame\n",
      "\n",
      "See the caveats in the documentation: https://pandas.pydata.org/pandas-docs/stable/user_guide/indexing.html#returning-a-view-versus-a-copy\n",
      "\n",
      "/tmp/ipykernel_269623/3581733367.py:116: UserWarning:\n",
      "\n",
      "pandas only supports SQLAlchemy connectable (engine/connection) or database string URI or sqlite3 DBAPI2 connection. Other DBAPI2 objects are not tested. Please consider using SQLAlchemy.\n",
      "\n",
      "/tmp/ipykernel_269623/3581733367.py:121: UserWarning:\n",
      "\n",
      "pandas only supports SQLAlchemy connectable (engine/connection) or database string URI or sqlite3 DBAPI2 connection. Other DBAPI2 objects are not tested. Please consider using SQLAlchemy.\n",
      "\n",
      "/tmp/ipykernel_269623/3581733367.py:116: UserWarning:\n",
      "\n",
      "pandas only supports SQLAlchemy connectable (engine/connection) or database string URI or sqlite3 DBAPI2 connection. Other DBAPI2 objects are not tested. Please consider using SQLAlchemy.\n",
      "\n",
      "/tmp/ipykernel_269623/3581733367.py:142: UserWarning:\n",
      "\n",
      "pandas only supports SQLAlchemy connectable (engine/connection) or database string URI or sqlite3 DBAPI2 connection. Other DBAPI2 objects are not tested. Please consider using SQLAlchemy.\n",
      "\n",
      "/tmp/ipykernel_269623/3581733367.py:142: UserWarning:\n",
      "\n",
      "pandas only supports SQLAlchemy connectable (engine/connection) or database string URI or sqlite3 DBAPI2 connection. Other DBAPI2 objects are not tested. Please consider using SQLAlchemy.\n",
      "\n",
      "/tmp/ipykernel_269623/3581733367.py:116: UserWarning:\n",
      "\n",
      "pandas only supports SQLAlchemy connectable (engine/connection) or database string URI or sqlite3 DBAPI2 connection. Other DBAPI2 objects are not tested. Please consider using SQLAlchemy.\n",
      "\n",
      "/tmp/ipykernel_269623/3581733367.py:121: UserWarning:\n",
      "\n",
      "pandas only supports SQLAlchemy connectable (engine/connection) or database string URI or sqlite3 DBAPI2 connection. Other DBAPI2 objects are not tested. Please consider using SQLAlchemy.\n",
      "\n",
      "/tmp/ipykernel_269623/3581733367.py:142: UserWarning:\n",
      "\n",
      "pandas only supports SQLAlchemy connectable (engine/connection) or database string URI or sqlite3 DBAPI2 connection. Other DBAPI2 objects are not tested. Please consider using SQLAlchemy.\n",
      "\n",
      "/tmp/ipykernel_269623/3581733367.py:168: UserWarning:\n",
      "\n",
      "pandas only supports SQLAlchemy connectable (engine/connection) or database string URI or sqlite3 DBAPI2 connection. Other DBAPI2 objects are not tested. Please consider using SQLAlchemy.\n",
      "\n",
      "/tmp/ipykernel_269623/3581733367.py:175: UserWarning:\n",
      "\n",
      "pandas only supports SQLAlchemy connectable (engine/connection) or database string URI or sqlite3 DBAPI2 connection. Other DBAPI2 objects are not tested. Please consider using SQLAlchemy.\n",
      "\n",
      "/tmp/ipykernel_269623/3581733367.py:168: UserWarning:\n",
      "\n",
      "pandas only supports SQLAlchemy connectable (engine/connection) or database string URI or sqlite3 DBAPI2 connection. Other DBAPI2 objects are not tested. Please consider using SQLAlchemy.\n",
      "\n",
      "/tmp/ipykernel_269623/3581733367.py:168: UserWarning:\n",
      "\n",
      "pandas only supports SQLAlchemy connectable (engine/connection) or database string URI or sqlite3 DBAPI2 connection. Other DBAPI2 objects are not tested. Please consider using SQLAlchemy.\n",
      "\n"
     ]
    }
   ],
   "source": [
    "\n",
    "app = Dash(__name__)\n",
    "colors = {'background':'#EEE8CD','text':'#1A1A1A'}\n",
    "\n",
    "app.layout = html.Div(\\\n",
    "    style={'backgroundColor':colors['background']},\n",
    "    children=[\n",
    "        html.H1(children='Popular research topics and topic related comparison',\n",
    "                     style={'textAlign':'center','color':colors['text']}),\n",
    "        html.Hr(),\n",
    "        html.Div(children=['''\n",
    "        choose year range from:\n",
    "        ''',\n",
    "        dcc.Dropdown(df_sql_2.year.unique(),'2020',id='from_year'),\n",
    "                           '''to:''',\n",
    "        dcc.Dropdown(df_sql_2.year.unique(),'2020',id='to_year'),\n",
    "        dcc.Graph(id = 'bar_keywords')]),\n",
    "        html.Hr(),\n",
    "        \n",
    "        #dash_table.DataTable(data=df_sql_1.to_dict('records'),\n",
    "        #                    page_size =10),\n",
    "        html.Div(children=['''\n",
    "        choose keyword:\n",
    "        ''',dcc.Dropdown(df_sql_keyword.keyword.unique(),\n",
    "                         'machine learning',\n",
    "                     id='keyword_name'),\n",
    "        dcc.Graph(id = 'keyword_trend')]),\n",
    "        html.Hr(),\n",
    "        html.Div(id='datatable2'),\n",
    "        html.Hr(),\n",
    "        html.Div(dcc.Graph(id='bar_2')),\n",
    "        html.Hr(),\n",
    "        html.Div(['Add keyword:',dcc.Input(id='add_key',\n",
    "                                           value='Type to add keyword',\n",
    "                                           type='text'),\n",
    "                 html.Button(id=\"add_button\",type='submit',\n",
    "                             children='Add'),\n",
    "                 html.Div(id='output_add')]),\n",
    "        html.Div(['Delete keyword:',dcc.Input(id='delete_key',\n",
    "                                             value='Type to delete keyword',\n",
    "                                             type='text'),\n",
    "                 html.Button(id=\"delete_button\",type='submit',\n",
    "                             children='Delete'),\n",
    "                 html.Div(id='output_delete')]),\n",
    "        html.Div(['Show me current affiliation and photo for:',dcc.Input(id='faculty',\n",
    "                                                  value='Type name of faculty',\n",
    "                                                  type='text'),\n",
    "                 html.Button(id=\"show_button\",type='submit',\n",
    "                            children=\"Search\"),\n",
    "                 html.Div(id='output_faculty'),\n",
    "                 html.Div(['Would you like to update backend data? ',\n",
    "                          html.Button(id='update_button',type='submit',\n",
    "                                     children=\"Yes, update\")])\n",
    "                 ])\n",
    "        \n",
    "        \n",
    "        \n",
    "        \n",
    "        \n",
    "    ])\n",
    "@callback(\n",
    "    Output('bar_keywords','figure'),\n",
    "    Input('from_year','value'),\n",
    "    Input('to_year','value'))\n",
    "\n",
    "def update_bar(from_year,to_year):\n",
    "    sql_conn = get_mysql_db()\n",
    "    from_year,to_year = min(from_year,to_year),max(from_year,to_year)\n",
    "\n",
    "    df = get_sql_1(from_year,to_year)\n",
    "    fig = px.bar(df,x=df.keyword,y=df['Number of publications'],\n",
    "                title='Top 10 keywords from {0} to {1}'.format(from_year,to_year))\n",
    "\n",
    "    return fig\n",
    "\n",
    "@callback(\n",
    "    Output('keyword_trend','figure'),\n",
    "    \n",
    "    Input('keyword_name','value')\n",
    ")\n",
    "def update_keyword(keyword_name):\n",
    "    df1 = get_mongo_1(keyword_name).sort_values('_id')\n",
    "    fig = px.line(df1,x=df1._id,y=df1.pub_count,title='Publication trend for {}'.format(keyword_name),\n",
    "                )\n",
    "    fig.update_layout( xaxis_title='Year',yaxis_title='Number of Publications')\n",
    "    \n",
    "    \n",
    "    return fig\n",
    "\n",
    "@callback(Output('datatable2','children'),\n",
    "         Input('keyword_name','value'))\n",
    "def update_datatable(keyword_name):\n",
    "    df2 = get_neo_1(keyword_name)\n",
    "    return dbc.Table.from_dataframe(df2)\n",
    "\n",
    "@callback(\n",
    "    Output('bar_2','figure'),\n",
    "    Input('keyword_name','value'))\n",
    "def update_bar_2(keyword_name):\n",
    "    df = get_neo_2(keyword_name)\n",
    "    fig = px.bar(df,x=df['Number of faculty'],y=df.University,\n",
    "                title='Top 10 University with most staff working on {}'.format(keyword_name)\n",
    "                )\n",
    "\n",
    "    return fig\n",
    "\n",
    "@callback(\n",
    "    Output('output_add','children'),\n",
    "    [Input('add_button','n_clicks')],\n",
    "    [State('add_key','value')])\n",
    "def add_key(clicks,input_value):\n",
    "    sql_conn = get_mysql_db()\n",
    "    if clicks is not None:\n",
    "        while clicks>0:\n",
    "            clicks-=1\n",
    "            sql_keyword = \"select id from keyword where name = '{}'\".format(input_value)\n",
    "            keyword_id = pd.read_sql(sql_keyword,sql_conn)\n",
    "            if len(keyword_id)!=0:\n",
    "                return \"This keyword already exists! Please check spelling and re-enter.\"\n",
    "            else:\n",
    "                max_keyword_id_query = \"select max(id) from keyword\"\n",
    "                df_id = pd.read_sql(max_keyword_id_query,sql_conn)\n",
    "                max_id = df_id.iloc[0,0]\n",
    "                cur = sql_conn.cursor()\n",
    "                query = \"insert into keyword (id,name) values ({0},'{1}')\".format(max_id+1,input_value)   \n",
    "                cur.execute(query)\n",
    "                sql_conn.commit()\n",
    "                cur.close()\n",
    "                return \"{} added\".format(input_value)\n",
    "            \n",
    "        \n",
    "@callback(\n",
    "    Output('output_delete','children'),\n",
    "    [Input('delete_button','n_clicks')],\n",
    "    [State('delete_key','value')])\n",
    "def delete_key(clicks,input_value):\n",
    "    sql_conn = get_mysql_db()\n",
    "    if clicks is not None:\n",
    "        \n",
    "        while clicks>0:\n",
    "            clicks-=1\n",
    "            sql_keyword = \"select id from keyword where name = '{}'\".format(input_value)\n",
    "            keyword_id = pd.read_sql(sql_keyword,sql_conn)\n",
    "            if len(keyword_id)==0:\n",
    "                return \"This keyword does not exist! Please check spelling and re-enter.\"\n",
    "            else:\n",
    "                cur = sql_conn.cursor()\n",
    "                query = \"delete from keyword where name = '{0}'\".format(input_value)   \n",
    "                cur.execute(query)\n",
    "                sql_conn.commit()\n",
    "                cur.close()\n",
    "                return \"{} deleted\".format(input_value)\n",
    "    \n",
    "@callback(Output('output_faculty','children'),\n",
    "          [Input('show_button','n_clicks')],\n",
    "    [State('faculty','value')],\n",
    "         [Input('update_button','n_clicks')])\n",
    "def update_faculty(clicks,input_value,clicks_2):\n",
    "    sql_conn = get_mysql_db()\n",
    "    if clicks is not None:\n",
    "        search_query = scholarly.search_author('{}'.format(input_value))\n",
    "        first_author_result = next(search_query)\n",
    "        photo = html.Img(src=first_author_result['url_picture'],height=200,width=200)\n",
    "        affiliation = first_author_result['affiliation']\n",
    "        interests =  first_author_result['interests']\n",
    "        df = pd.DataFrame(columns=['photo','affiliation','interests'],data=[[photo,affiliation,interests]])\n",
    "        if clicks_2 is not None:\n",
    "            univ_query = \"select id from university where name = '{}'\".format(affiliation)\n",
    "            univ_id = pd.read_sql(univ_query,sql_conn)\n",
    "            if len(univ_id)!=0:\n",
    "                uid = univ_id.iloc[0,0]\n",
    "                update_query_1 =\"update faculty set photo_url='{0}', university_id = {1}\"\\\n",
    "                .format(first_author_result['url_picture'],uid)\n",
    "            else:\n",
    "                univ_max_id = \"select max(id) from university\"\n",
    "                uid = pd.read_sql(univ_max_id,sql_conn).iloc[0,0]+1\n",
    "                cur = sql_conn.cursor()\n",
    "                query = \"insert into university (id,name,photo_url) values ({0},'{1}',NULL)\".format(uid,affiliation)   \n",
    "                cur.execute(query)\n",
    "                sql_conn.commit()\n",
    "                cur.close()\n",
    "                update_query_1 =\"update faculty set photo_url='{0}', university_id = {1}\"\\\n",
    "                .format(first_author_result['url_picture'],uid)\n",
    "            cur = sql_conn.cursor()\n",
    "            cur.execute(update_query_1)\n",
    "            sql_conn.commit()\n",
    "            cur.close()\n",
    "            \n",
    "        return dbc.Table.from_dataframe(df)\n",
    "\n",
    "\n",
    "if __name__ == '__main__':\n",
    "    app.run(debug=True)"
   ]
  },
  {
   "cell_type": "code",
   "execution_count": null,
   "id": "8fec630d",
   "metadata": {},
   "outputs": [],
   "source": []
  },
  {
   "cell_type": "code",
   "execution_count": null,
   "id": "52de00af",
   "metadata": {},
   "outputs": [],
   "source": []
  },
  {
   "cell_type": "code",
   "execution_count": null,
   "id": "b25a5614",
   "metadata": {},
   "outputs": [],
   "source": []
  }
 ],
 "metadata": {
  "kernelspec": {
   "display_name": "Python 3 (ipykernel)",
   "language": "python",
   "name": "python3"
  },
  "language_info": {
   "codemirror_mode": {
    "name": "ipython",
    "version": 3
   },
   "file_extension": ".py",
   "mimetype": "text/x-python",
   "name": "python",
   "nbconvert_exporter": "python",
   "pygments_lexer": "ipython3",
   "version": "3.11.3"
  }
 },
 "nbformat": 4,
 "nbformat_minor": 5
}
